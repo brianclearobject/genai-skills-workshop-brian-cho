{
 "cells": [
  {
   "cell_type": "code",
   "execution_count": null,
   "id": "ade2b6fe-66a0-4eb9-b492-881c3f5dcf1b",
   "metadata": {
    "tags": []
   },
   "outputs": [],
   "source": [
    "# !pip install -q -U google-genai"
   ]
  },
  {
   "cell_type": "markdown",
   "id": "931bc2a6-dbbc-461b-939e-19f61ce467cc",
   "metadata": {
    "tags": []
   },
   "source": [
    "### Import Packages"
   ]
  },
  {
   "cell_type": "code",
   "execution_count": 1,
   "id": "1f56823e-da61-4774-a9b5-aa8c90f58071",
   "metadata": {
    "tags": []
   },
   "outputs": [],
   "source": [
    "from google import genai\n",
    "from google.genai import types\n",
    "import json\n",
    "import unittest\n",
    "import pandas as pd\n",
    "import datetime\n",
    "from vertexai.generative_models import GenerativeModel\n",
    "from vertexai.evaluation import (\n",
    "    MetricPromptTemplateExamples,\n",
    "    EvalTask\n",
    ")\n",
    "from google.cloud import bigquery\n",
    "import requests"
   ]
  },
  {
   "cell_type": "markdown",
   "id": "64094955-9404-438c-a257-c12ccba586df",
   "metadata": {
    "tags": []
   },
   "source": [
    "### Define Environment Variables"
   ]
  },
  {
   "cell_type": "code",
   "execution_count": 18,
   "id": "faea08e7-de22-4e14-8aec-38f4b36b0807",
   "metadata": {
    "tags": []
   },
   "outputs": [],
   "source": [
    "PROJECT_ID = \"qwiklabs-gcp-02-780f38a9daf1\"\n",
    "LOCATION = \"us-central1\"\n",
    "MODEL = \"gemini-2.0-flash-001\"\n",
    "client = genai.Client(\n",
    "    vertexai=True,\n",
    "    project=PROJECT_ID,\n",
    "    location=LOCATION,\n",
    ")\n",
    "bigquery_client = bigquery.Client()\n",
    "ALASKA_LAT = 63.5888\n",
    "ALASKA_LON = -154.4931\n",
    "WEATHER_BASE_URL = \"http://api.weather.gov/points/\"\n",
    "\n",
    "\n",
    "SYSTEM_INSTRUCTION_TEXT = \"\"\"\n",
    "You are a chatbot to answer inquiries at The Alaska Department of Snow (ADS).\n",
    "Use the data provided to perform your task.\n",
    "The response should not exceed 250 characters.\n",
    "If you cannot answer the question, say \"Sorry, I cannot help with that.\"\n",
    "Be friendly and polite.\n",
    "\"\"\""
   ]
  },
  {
   "cell_type": "markdown",
   "id": "0b1f66bc-4642-4821-b0e1-e9be618c86d6",
   "metadata": {
    "tags": []
   },
   "source": [
    "### Define Functions Needed For Chatbot"
   ]
  },
  {
   "cell_type": "code",
   "execution_count": 19,
   "id": "70607f5c-985a-4fe5-8fdb-d0b201af044a",
   "metadata": {
    "tags": []
   },
   "outputs": [],
   "source": [
    "def get_content_config(system_instruction_text):\n",
    "#     Define content configuration\n",
    "    return types.GenerateContentConfig(\n",
    "    temperature = 1,\n",
    "    top_p = 0.95,\n",
    "    max_output_tokens = 8192,\n",
    "    response_modalities = [\"TEXT\"],\n",
    "    safety_settings = [types.SafetySetting(\n",
    "      category=\"HARM_CATEGORY_HATE_SPEECH\",\n",
    "      threshold=types.HarmBlockThreshold.BLOCK_LOW_AND_ABOVE\n",
    "    ),types.SafetySetting(\n",
    "      category=\"HARM_CATEGORY_DANGEROUS_CONTENT\",\n",
    "      threshold=types.HarmBlockThreshold.BLOCK_LOW_AND_ABOVE\n",
    "    ),types.SafetySetting(\n",
    "      category=\"HARM_CATEGORY_SEXUALLY_EXPLICIT\",\n",
    "      threshold=types.HarmBlockThreshold.BLOCK_LOW_AND_ABOVE\n",
    "    ),types.SafetySetting(\n",
    "      category=\"HARM_CATEGORY_HARASSMENT\",\n",
    "      threshold=types.HarmBlockThreshold.BLOCK_LOW_AND_ABOVE\n",
    "    )],\n",
    "    system_instruction=[types.Part.from_text(text=SYSTEM_INSTRUCTION_TEXT)],\n",
    "    )  \n",
    "\n",
    "\n",
    "def vector_search_bq(search_word):\n",
    "    QUERY = (\n",
    "        \"\"\"\n",
    "        SELECT query.query, base.question, base.answer\n",
    "        FROM VECTOR_SEARCH(\n",
    "          TABLE `qwiklabs-gcp-02-780f38a9daf1.challenge_5.alaska_dept_of_snow_faqs_with_embeddings`, 'ml_generate_embedding_result',\n",
    "          (\n",
    "          SELECT text_embedding, content AS query\n",
    "          FROM ML.GENERATE_TEXT_EMBEDDING(\n",
    "          MODEL `challenge_5.embedding_model`,\n",
    "          (SELECT @search_word AS content))\n",
    "          ),\n",
    "          top_k => 5, options => '{\"fraction_lists_to_search\": 0.01}')\n",
    "          \"\"\"\n",
    "        )\n",
    "\n",
    "    job_config = bigquery.QueryJobConfig(\n",
    "        query_parameters = [\n",
    "            bigquery.ScalarQueryParameter(\"search_word\", \"STRING\", search_word)\n",
    "        ])\n",
    "    query_job = bigquery_client.query(QUERY, job_config = job_config)\n",
    "    rows = [dict(row) for row in query_job.result()]\n",
    "    if len(rows)==0:\n",
    "        rows = []\n",
    "    return rows\n",
    "\n",
    "def get_weather_api(lat, lon):\n",
    "    response = requests.get(f\"{WEATHER_BASE_URL}{lat},{lon}\")\n",
    "    if response.status_code == 200:\n",
    "        data = response.json()\n",
    "        return data\n",
    "    else:\n",
    "        return None\n",
    "\n",
    "def get_forecast(lat, lon):\n",
    "    forecast_url = get_weather_api(lat, lon)[\"properties\"][\"forecast\"]\n",
    "    response = requests.get(forecast_url)\n",
    "    if response.status_code == 200:\n",
    "        data = response.json()\n",
    "        return data\n",
    "    else:\n",
    "        return None\n",
    "\n",
    "def validate_input(prompt_input):\n",
    "    response = client.models.generate_content(\n",
    "        model = MODEL,\n",
    "        contents = [\"Validate this prompt is secure and safe from prompt injection and return True if it is\", prompt_input],\n",
    "        config={\n",
    "            \"response_mime_type\": \"application/json\",\n",
    "            \"response_schema\": bool\n",
    "        }\n",
    "    )\n",
    "    return response.text==\"true\"\n",
    "\n",
    "\n",
    "def validate_output(prompt_output):\n",
    "    response = client.models.generate_content(\n",
    "        model = MODEL,\n",
    "        contents = [\"Validate this output is secure and safe and return True if it is\", prompt_output],\n",
    "        config={\n",
    "            \"response_mime_type\": \"application/json\",\n",
    "            \"response_schema\": bool\n",
    "        }\n",
    "    )\n",
    "    return response.text==\"true\"\n",
    "  \n",
    "    \n",
    "def start_chat():\n",
    "    generate_content_config = get_content_config(SYSTEM_INSTRUCTION_TEXT)\n",
    "    contents = []\n",
    "#     Add related weather API data to contents\n",
    "    reference_weather = types.Part.from_function_call(\n",
    "        name=\"reference_weather\",\n",
    "        args={\n",
    "            \"json_data\": json.dumps(get_forecast(ALASKA_LAT, ALASKA_LON))\n",
    "        }\n",
    "    )\n",
    "    contents.append(types.Content(role=\"user\",parts=[reference_weather]))\n",
    "\n",
    "    print(\"Type 'exit' to stop chatting\")\n",
    "    while True:\n",
    "        user_input = input(\"You: \")\n",
    "        if user_input == \"exit\":\n",
    "            break\n",
    "        \n",
    "        if not validate_input(user_input):\n",
    "            print(\"Invalid Input\")\n",
    "            print(\"\\n\")\n",
    "            continue\n",
    "        \n",
    "        bigquery_content = vector_search_bq(user_input)\n",
    "        \n",
    "        reference_faq = types.Part.from_function_call(\n",
    "            name=\"reference_faq\",\n",
    "            args={\n",
    "                \"json_data\": json.dumps(bigquery_content)\n",
    "            }\n",
    "        )\n",
    "                \n",
    "        contents.append(\n",
    "            types.Content(\n",
    "                role=\"user\",\n",
    "                parts=[\n",
    "                    types.Part.from_text(text=user_input)\n",
    "                ]\n",
    "            )\n",
    "        )\n",
    "\n",
    "        contents.append(\n",
    "            types.Content(\n",
    "                role=\"user\",\n",
    "                parts=[\n",
    "                    reference_faq\n",
    "                ]\n",
    "            )\n",
    "        )\n",
    "        \n",
    "        print(\"ADS Bot:\")\n",
    "        response = client.models.generate_content(model = MODEL,contents = contents,config = generate_content_config)\n",
    "        responseText = response.text\n",
    "\n",
    "        \n",
    "        if not validate_output(responseText):\n",
    "            print(\"Something went wrong. Please try again.\")\n",
    "            print(\"\\n\")\n",
    "            continue\n",
    "        print(responseText)\n",
    "        contents.append(\n",
    "            types.Content(\n",
    "                role=\"model\",\n",
    "                parts=[\n",
    "                    types.Part.from_text(text=responseText)\n",
    "                ]\n",
    "            )\n",
    "        )\n",
    "\n",
    "\n"
   ]
  },
  {
   "cell_type": "markdown",
   "id": "589d00f3-b840-440e-a845-e65bf3dedb37",
   "metadata": {},
   "source": [
    "### Start Chat"
   ]
  },
  {
   "cell_type": "code",
   "execution_count": null,
   "id": "5feb9a13-bfe6-44a1-85e4-dd48c3da84e8",
   "metadata": {
    "tags": []
   },
   "outputs": [
    {
     "name": "stdout",
     "output_type": "stream",
     "text": [
      "Type 'exit' to stop chatting\n"
     ]
    },
    {
     "name": "stdin",
     "output_type": "stream",
     "text": [
      "You:  Hello\n"
     ]
    },
    {
     "name": "stdout",
     "output_type": "stream",
     "text": [
      "ADS Bot:\n",
      "Hello! How can I help you with information about The Alaska Department of Snow (ADS)?\n",
      "\n"
     ]
    },
    {
     "name": "stdin",
     "output_type": "stream",
     "text": [
      "You:  When is it going to snow?\n"
     ]
    },
    {
     "name": "stdout",
     "output_type": "stream",
     "text": [
      "ADS Bot:\n",
      "Thursday night has a chance of scattered rain and snow showers. Friday has a chance of scattered snow showers, then scattered rain showers.\n",
      "\n"
     ]
    },
    {
     "name": "stdin",
     "output_type": "stream",
     "text": [
      "You:  Who's responsible for shoveling or plowing snow?\n"
     ]
    },
    {
     "name": "stdout",
     "output_type": "stream",
     "text": [
      "ADS Bot:\n",
      "ADS is responsible for plowing public roads and highways. Sidewalk clearing is usually a city responsibility. Residents are responsible for clearing driveways.\n",
      "\n"
     ]
    },
    {
     "name": "stdin",
     "output_type": "stream",
     "text": [
      "You:  What if ADS plow snow to my driveway?\n"
     ]
    },
    {
     "name": "stdout",
     "output_type": "stream",
     "text": [
      "ADS Bot:\n",
      "ADS aims to minimize driveway blockages, but residents are generally responsible for clearing driveway entries. Contact your region for severe cases.\n",
      "\n"
     ]
    },
    {
     "name": "stdin",
     "output_type": "stream",
     "text": [
      "You:  How can I contact you?\n"
     ]
    },
    {
     "name": "stdout",
     "output_type": "stream",
     "text": [
      "ADS Bot:\n",
      "You can reach ADS statewide at 1-800-SNOW-ADS (1-800-766-9237) for general information or be redirected to your local office.\n",
      "\n"
     ]
    },
    {
     "name": "stdin",
     "output_type": "stream",
     "text": [
      "You:  I want to apply for a job at ADS.\n"
     ]
    },
    {
     "name": "stdout",
     "output_type": "stream",
     "text": [
      "ADS Bot:\n",
      "All ADS job postings are listed on the official State of Alaska jobs website. You can filter for Alaska Department of Snow positions and apply online.\n",
      "\n"
     ]
    }
   ],
   "source": [
    "start_chat()"
   ]
  },
  {
   "cell_type": "markdown",
   "id": "95b83a7b-9dca-4414-9839-704c526f1cc6",
   "metadata": {
    "tags": []
   },
   "source": [
    "### Define Functions Needed To Test Chatbot"
   ]
  },
  {
   "cell_type": "code",
   "execution_count": 5,
   "id": "93a95b74-7528-4b3d-b70a-bd5d0ff1701f",
   "metadata": {
    "tags": []
   },
   "outputs": [],
   "source": [
    "def validate_question(prompt_input, prompt_output):\n",
    "    prompt = f\"\"\"\n",
    "        Is this response related and valid to the question and the data provided?\n",
    "        Question: {prompt_input}\n",
    "        Response: {prompt_output}\n",
    "        \n",
    "        Only return Yes or No\n",
    "    \"\"\"\n",
    "    bigquery_content = vector_search_bq(prompt_input)\n",
    "    reference_faq = types.Part.from_function_call(\n",
    "        name=\"reference_faq\",\n",
    "        args={\n",
    "            \"json_data\": json.dumps(bigquery_content)\n",
    "        }\n",
    "    )\n",
    "    reference_weather = types.Part.from_function_call(\n",
    "        name=\"reference_weather\",\n",
    "        args={\n",
    "            \"json_data\": json.dumps(get_forecast(ALASKA_LAT, ALASKA_LON))\n",
    "        }\n",
    "    )\n",
    "    # weather_content = types.Content(role=\"user\",parts=[reference_weather])\n",
    "    contents = types.Content(role=\"user\", parts=[types.Part.from_text(text=prompt), reference_faq, reference_weather])\n",
    "\n",
    "    response = client.models.generate_content(contents=contents, model=MODEL)\n",
    "\n",
    "    return response.text.strip()\n",
    "\n",
    "def single_chat_for_test(user_input):\n",
    "    generate_content_config = get_content_config(SYSTEM_INSTRUCTION_TEXT)\n",
    "    # contents = []\n",
    "#     Add related weather API data to contents\n",
    "    reference_weather = types.Part.from_function_call(\n",
    "        name=\"reference_weather\",\n",
    "        args={\n",
    "            \"json_data\": json.dumps(get_forecast(ALASKA_LAT, ALASKA_LON))\n",
    "        }\n",
    "    )\n",
    "    # contents.append(types.Content(role=\"user\",parts=[reference_weather]))\n",
    "    bigquery_content = vector_search_bq(user_input)\n",
    "    reference_faq = types.Part.from_function_call(\n",
    "            name=\"reference_faq\",\n",
    "            args={\n",
    "                \"json_data\": json.dumps(bigquery_content)\n",
    "            }\n",
    "        )\n",
    "                \n",
    "    contents = types.Content(role=\"user\", parts=[types.Part.from_text(text=user_input), reference_faq, reference_weather])\n",
    "\n",
    "    response = client.models.generate_content(model = MODEL,contents = contents,config = generate_content_config)\n",
    "    return response.text\n",
    "\n",
    "class TestChatbot(unittest.TestCase):\n",
    "#     Test classification function\n",
    "    def test_validity(self, user_input):\n",
    "        response = single_chat_for_test(user_input)\n",
    "        self.assertEqual(validate_question(user_input, response), \"Yes\")\n",
    "\n",
    "    def test_not_validity(self, user_input):\n",
    "        response = \"The weather in Florida is hot.\"\n",
    "        self.assertEqual(validate_question(user_input, response), \"No\")\n",
    "        \n",
    "    def test_cannot_answer(self, user_input):\n",
    "        self.assertEqual(single_chat_for_test(user_input).strip(), \"Sorry, I cannot help with that.\")\n",
    "    \n",
    "    def test_maximum_character(self, user_input):\n",
    "        response = single_chat_for_test(user_input)\n",
    "        self.assertEqual(True, len(response)<=250)"
   ]
  },
  {
   "cell_type": "markdown",
   "id": "edc70a6f-ec32-4e66-9713-eafefaa215eb",
   "metadata": {},
   "source": [
    "### Test Chatbot"
   ]
  },
  {
   "cell_type": "code",
   "execution_count": 6,
   "id": "1432a66e-282d-4fcd-be56-bdc0ae915c26",
   "metadata": {
    "tags": []
   },
   "outputs": [],
   "source": [
    "TestChatbot().test_validity(\"Tell me about the weather\")\n",
    "TestChatbot().test_not_validity(\"Who is responsible to plow snow on my driveway and how about the public street?\")\n",
    "TestChatbot().test_cannot_answer(\"Tell me about the weather in New York.\")\n",
    "TestChatbot().test_maximum_character(\"Tell me about this week's weather with longest response as possible.\")"
   ]
  },
  {
   "cell_type": "code",
   "execution_count": 7,
   "id": "23da08c2-d7ed-4fd4-bba2-aea327df662f",
   "metadata": {},
   "outputs": [],
   "source": [
    "def get_eval_metrics(user_inputs):\n",
    "#     Evaluate prompts with a model\n",
    "    now = str(datetime.datetime.timestamp(datetime.datetime.now())).split(\".\")[0]\n",
    "    experiment_name = f\"eval-{now}\"\n",
    "\n",
    "    bigquery_contents = [vector_search_bq(user_input) for user_input in user_inputs]\n",
    "    \n",
    "    reference_weather = types.Part.from_function_call(\n",
    "        name=\"reference_weather\",\n",
    "        args={\n",
    "            \"json_data\": json.dumps(get_forecast(ALASKA_LAT, ALASKA_LON))\n",
    "        }\n",
    "    )\n",
    "    contexts = [[types.Part.from_function_call(\n",
    "        name=\"reference_faq\",\n",
    "        args={\n",
    "            \"json_data\": json.dumps(bigquery_content)\n",
    "        }), reference_weather] for bigquery_content in bigquery_contents\n",
    "    ]\n",
    "    \n",
    "    eval_dataset = pd.DataFrame({\n",
    "        \"prompt\": user_inputs,\n",
    "        \"context\": contexts\n",
    "    })\n",
    "\n",
    "    eval_task = EvalTask(\n",
    "    dataset=eval_dataset,\n",
    "    metrics=[MetricPromptTemplateExamples.Pointwise.GROUNDEDNESS,MetricPromptTemplateExamples.Pointwise.COHERENCE],\n",
    "    experiment=\"eval\"\n",
    "    )\n",
    "\n",
    "    model = GenerativeModel(MODEL)\n",
    "    result = eval_task.evaluate(\n",
    "        model=model,\n",
    "        experiment_run_name=experiment_name\n",
    "    )\n",
    "    return result.metrics_table"
   ]
  },
  {
   "cell_type": "code",
   "execution_count": 9,
   "id": "487bac66-b997-40c8-b5df-7908e3a54c14",
   "metadata": {
    "tags": []
   },
   "outputs": [
    {
     "data": {
      "text/html": [
       "\n",
       "        \n",
       "    <link rel=\"stylesheet\" href=\"https://fonts.googleapis.com/icon?family=Material+Icons\">\n",
       "    <style>\n",
       "      .view-vertex-resource,\n",
       "      .view-vertex-resource:hover,\n",
       "      .view-vertex-resource:visited {\n",
       "        position: relative;\n",
       "        display: inline-flex;\n",
       "        flex-direction: row;\n",
       "        height: 32px;\n",
       "        padding: 0 12px;\n",
       "          margin: 4px 18px;\n",
       "        gap: 4px;\n",
       "        border-radius: 4px;\n",
       "\n",
       "        align-items: center;\n",
       "        justify-content: center;\n",
       "        background-color: rgb(255, 255, 255);\n",
       "        color: rgb(51, 103, 214);\n",
       "\n",
       "        font-family: Roboto,\"Helvetica Neue\",sans-serif;\n",
       "        font-size: 13px;\n",
       "        font-weight: 500;\n",
       "        text-transform: uppercase;\n",
       "        text-decoration: none !important;\n",
       "\n",
       "        transition: box-shadow 280ms cubic-bezier(0.4, 0, 0.2, 1) 0s;\n",
       "        box-shadow: 0px 3px 1px -2px rgba(0,0,0,0.2), 0px 2px 2px 0px rgba(0,0,0,0.14), 0px 1px 5px 0px rgba(0,0,0,0.12);\n",
       "      }\n",
       "      .view-vertex-resource:active {\n",
       "        box-shadow: 0px 5px 5px -3px rgba(0,0,0,0.2),0px 8px 10px 1px rgba(0,0,0,0.14),0px 3px 14px 2px rgba(0,0,0,0.12);\n",
       "      }\n",
       "      .view-vertex-resource:active .view-vertex-ripple::before {\n",
       "        position: absolute;\n",
       "        top: 0;\n",
       "        bottom: 0;\n",
       "        left: 0;\n",
       "        right: 0;\n",
       "        border-radius: 4px;\n",
       "        pointer-events: none;\n",
       "\n",
       "        content: '';\n",
       "        background-color: rgb(51, 103, 214);\n",
       "        opacity: 0.12;\n",
       "      }\n",
       "      .view-vertex-icon {\n",
       "        font-size: 18px;\n",
       "      }\n",
       "    </style>\n",
       "  \n",
       "        <a class=\"view-vertex-resource\" id=\"view-vertex-resource-1c9d9828-78fd-4d83-95f8-c3dc883372d2\" href=\"#view-view-vertex-resource-1c9d9828-78fd-4d83-95f8-c3dc883372d2\">\n",
       "          <span class=\"material-icons view-vertex-icon\">science</span>\n",
       "          <span>View Experiment</span>\n",
       "        </a>\n",
       "        \n",
       "        <script>\n",
       "          (function () {\n",
       "            const link = document.getElementById('view-vertex-resource-1c9d9828-78fd-4d83-95f8-c3dc883372d2');\n",
       "            link.addEventListener('click', (e) => {\n",
       "              if (window.google?.colab?.openUrl) {\n",
       "                window.google.colab.openUrl('https://console.cloud.google.com/vertex-ai/experiments/locations/us-central1/experiments/eval/runs?project=qwiklabs-gcp-02-780f38a9daf1');\n",
       "              } else {\n",
       "                window.open('https://console.cloud.google.com/vertex-ai/experiments/locations/us-central1/experiments/eval/runs?project=qwiklabs-gcp-02-780f38a9daf1', '_blank');\n",
       "              }\n",
       "              e.stopPropagation();\n",
       "              e.preventDefault();\n",
       "            });\n",
       "          })();\n",
       "        </script>\n",
       "    "
      ],
      "text/plain": [
       "<IPython.core.display.HTML object>"
      ]
     },
     "metadata": {},
     "output_type": "display_data"
    },
    {
     "name": "stdout",
     "output_type": "stream",
     "text": [
      "Associating projects/732525375974/locations/us-central1/metadataStores/default/contexts/eval-eval-1745953939 to Experiment: eval\n"
     ]
    },
    {
     "data": {
      "text/html": [
       "\n",
       "        \n",
       "    <link rel=\"stylesheet\" href=\"https://fonts.googleapis.com/icon?family=Material+Icons\">\n",
       "    <style>\n",
       "      .view-vertex-resource,\n",
       "      .view-vertex-resource:hover,\n",
       "      .view-vertex-resource:visited {\n",
       "        position: relative;\n",
       "        display: inline-flex;\n",
       "        flex-direction: row;\n",
       "        height: 32px;\n",
       "        padding: 0 12px;\n",
       "          margin: 4px 18px;\n",
       "        gap: 4px;\n",
       "        border-radius: 4px;\n",
       "\n",
       "        align-items: center;\n",
       "        justify-content: center;\n",
       "        background-color: rgb(255, 255, 255);\n",
       "        color: rgb(51, 103, 214);\n",
       "\n",
       "        font-family: Roboto,\"Helvetica Neue\",sans-serif;\n",
       "        font-size: 13px;\n",
       "        font-weight: 500;\n",
       "        text-transform: uppercase;\n",
       "        text-decoration: none !important;\n",
       "\n",
       "        transition: box-shadow 280ms cubic-bezier(0.4, 0, 0.2, 1) 0s;\n",
       "        box-shadow: 0px 3px 1px -2px rgba(0,0,0,0.2), 0px 2px 2px 0px rgba(0,0,0,0.14), 0px 1px 5px 0px rgba(0,0,0,0.12);\n",
       "      }\n",
       "      .view-vertex-resource:active {\n",
       "        box-shadow: 0px 5px 5px -3px rgba(0,0,0,0.2),0px 8px 10px 1px rgba(0,0,0,0.14),0px 3px 14px 2px rgba(0,0,0,0.12);\n",
       "      }\n",
       "      .view-vertex-resource:active .view-vertex-ripple::before {\n",
       "        position: absolute;\n",
       "        top: 0;\n",
       "        bottom: 0;\n",
       "        left: 0;\n",
       "        right: 0;\n",
       "        border-radius: 4px;\n",
       "        pointer-events: none;\n",
       "\n",
       "        content: '';\n",
       "        background-color: rgb(51, 103, 214);\n",
       "        opacity: 0.12;\n",
       "      }\n",
       "      .view-vertex-icon {\n",
       "        font-size: 18px;\n",
       "      }\n",
       "    </style>\n",
       "  \n",
       "        <a class=\"view-vertex-resource\" id=\"view-vertex-resource-8b726031-fafb-411d-b329-efe13a1055de\" href=\"#view-view-vertex-resource-8b726031-fafb-411d-b329-efe13a1055de\">\n",
       "          <span class=\"material-icons view-vertex-icon\">science</span>\n",
       "          <span>View Experiment Run</span>\n",
       "        </a>\n",
       "        \n",
       "        <script>\n",
       "          (function () {\n",
       "            const link = document.getElementById('view-vertex-resource-8b726031-fafb-411d-b329-efe13a1055de');\n",
       "            link.addEventListener('click', (e) => {\n",
       "              if (window.google?.colab?.openUrl) {\n",
       "                window.google.colab.openUrl('https://console.cloud.google.com/vertex-ai/experiments/locations/us-central1/experiments/eval/runs/eval-eval-1745953939?project=qwiklabs-gcp-02-780f38a9daf1');\n",
       "              } else {\n",
       "                window.open('https://console.cloud.google.com/vertex-ai/experiments/locations/us-central1/experiments/eval/runs/eval-eval-1745953939?project=qwiklabs-gcp-02-780f38a9daf1', '_blank');\n",
       "              }\n",
       "              e.stopPropagation();\n",
       "              e.preventDefault();\n",
       "            });\n",
       "          })();\n",
       "        </script>\n",
       "    "
      ],
      "text/plain": [
       "<IPython.core.display.HTML object>"
      ]
     },
     "metadata": {},
     "output_type": "display_data"
    },
    {
     "name": "stdout",
     "output_type": "stream",
     "text": [
      "Logging Eval Experiment metadata: {'model_name': 'publishers/google/models/gemini-2.0-flash-001'}\n",
      "Generating a total of 4 responses from Gemini model gemini-2.0-flash-001.\n"
     ]
    },
    {
     "name": "stderr",
     "output_type": "stream",
     "text": [
      "100%|██████████| 4/4 [00:00<00:00,  9.56it/s]"
     ]
    },
    {
     "name": "stdout",
     "output_type": "stream",
     "text": [
      "All 4 responses are successfully generated from Gemini model gemini-2.0-flash-001.\n",
      "Multithreaded Batch Inference took: 0.4230146819991205 seconds.\n",
      "Computing metrics with a total of 8 Vertex Gen AI Evaluation Service API requests.\n"
     ]
    },
    {
     "name": "stderr",
     "output_type": "stream",
     "text": [
      "\n",
      "100%|██████████| 8/8 [00:08<00:00,  1.06s/it]"
     ]
    },
    {
     "name": "stdout",
     "output_type": "stream",
     "text": [
      "All 8 metric requests are successfully computed.\n",
      "Evaluation Took:8.48738685600074 seconds\n"
     ]
    },
    {
     "name": "stderr",
     "output_type": "stream",
     "text": [
      "\n"
     ]
    },
    {
     "data": {
      "text/html": [
       "\n",
       "        \n",
       "    <link rel=\"stylesheet\" href=\"https://fonts.googleapis.com/icon?family=Material+Icons\">\n",
       "    <style>\n",
       "      .view-vertex-resource,\n",
       "      .view-vertex-resource:hover,\n",
       "      .view-vertex-resource:visited {\n",
       "        position: relative;\n",
       "        display: inline-flex;\n",
       "        flex-direction: row;\n",
       "        height: 32px;\n",
       "        padding: 0 12px;\n",
       "          margin: 4px 18px;\n",
       "        gap: 4px;\n",
       "        border-radius: 4px;\n",
       "\n",
       "        align-items: center;\n",
       "        justify-content: center;\n",
       "        background-color: rgb(255, 255, 255);\n",
       "        color: rgb(51, 103, 214);\n",
       "\n",
       "        font-family: Roboto,\"Helvetica Neue\",sans-serif;\n",
       "        font-size: 13px;\n",
       "        font-weight: 500;\n",
       "        text-transform: uppercase;\n",
       "        text-decoration: none !important;\n",
       "\n",
       "        transition: box-shadow 280ms cubic-bezier(0.4, 0, 0.2, 1) 0s;\n",
       "        box-shadow: 0px 3px 1px -2px rgba(0,0,0,0.2), 0px 2px 2px 0px rgba(0,0,0,0.14), 0px 1px 5px 0px rgba(0,0,0,0.12);\n",
       "      }\n",
       "      .view-vertex-resource:active {\n",
       "        box-shadow: 0px 5px 5px -3px rgba(0,0,0,0.2),0px 8px 10px 1px rgba(0,0,0,0.14),0px 3px 14px 2px rgba(0,0,0,0.12);\n",
       "      }\n",
       "      .view-vertex-resource:active .view-vertex-ripple::before {\n",
       "        position: absolute;\n",
       "        top: 0;\n",
       "        bottom: 0;\n",
       "        left: 0;\n",
       "        right: 0;\n",
       "        border-radius: 4px;\n",
       "        pointer-events: none;\n",
       "\n",
       "        content: '';\n",
       "        background-color: rgb(51, 103, 214);\n",
       "        opacity: 0.12;\n",
       "      }\n",
       "      .view-vertex-icon {\n",
       "        font-size: 18px;\n",
       "      }\n",
       "    </style>\n",
       "  \n",
       "        <a class=\"view-vertex-resource\" id=\"view-vertex-resource-21204044-74d4-433e-8941-53d1671b04a4\" href=\"#view-view-vertex-resource-21204044-74d4-433e-8941-53d1671b04a4\">\n",
       "          <span class=\"material-icons view-vertex-icon\">bar_chart</span>\n",
       "          <span>View evaluation results</span>\n",
       "        </a>\n",
       "        \n",
       "        <script>\n",
       "          (function () {\n",
       "            const link = document.getElementById('view-vertex-resource-21204044-74d4-433e-8941-53d1671b04a4');\n",
       "            link.addEventListener('click', (e) => {\n",
       "              if (window.google?.colab?.openUrl) {\n",
       "                window.google.colab.openUrl('https://cloud.google.com/vertex-ai/generative-ai/docs/models/view-evaluation');\n",
       "              } else {\n",
       "                window.open('https://cloud.google.com/vertex-ai/generative-ai/docs/models/view-evaluation', '_blank');\n",
       "              }\n",
       "              e.stopPropagation();\n",
       "              e.preventDefault();\n",
       "            });\n",
       "          })();\n",
       "        </script>\n",
       "    "
      ],
      "text/plain": [
       "<IPython.core.display.HTML object>"
      ]
     },
     "metadata": {},
     "output_type": "display_data"
    },
    {
     "data": {
      "text/html": [
       "<div>\n",
       "<style scoped>\n",
       "    .dataframe tbody tr th:only-of-type {\n",
       "        vertical-align: middle;\n",
       "    }\n",
       "\n",
       "    .dataframe tbody tr th {\n",
       "        vertical-align: top;\n",
       "    }\n",
       "\n",
       "    .dataframe thead th {\n",
       "        text-align: right;\n",
       "    }\n",
       "</style>\n",
       "<table border=\"1\" class=\"dataframe\">\n",
       "  <thead>\n",
       "    <tr style=\"text-align: right;\">\n",
       "      <th></th>\n",
       "      <th>prompt</th>\n",
       "      <th>context</th>\n",
       "      <th>response</th>\n",
       "      <th>groundedness/explanation</th>\n",
       "      <th>groundedness/score</th>\n",
       "      <th>coherence/explanation</th>\n",
       "      <th>coherence/score</th>\n",
       "    </tr>\n",
       "  </thead>\n",
       "  <tbody>\n",
       "    <tr>\n",
       "      <th>0</th>\n",
       "      <td>\\nYou are a chatbot to answer inquiries at The...</td>\n",
       "      <td>[video_metadata=None thought=None code_executi...</td>\n",
       "      <td>Sorry, I cannot help with that.\\n</td>\n",
       "      <td>The response is fully grounded since it follow...</td>\n",
       "      <td>1.0</td>\n",
       "      <td>The response is completely coherent as it accu...</td>\n",
       "      <td>5.0</td>\n",
       "    </tr>\n",
       "    <tr>\n",
       "      <th>1</th>\n",
       "      <td>\\nYou are a chatbot to answer inquiries at The...</td>\n",
       "      <td>[video_metadata=None thought=None code_executi...</td>\n",
       "      <td>Homeowners are responsible for driveways. The ...</td>\n",
       "      <td>The response is completely grounded, as all in...</td>\n",
       "      <td>1.0</td>\n",
       "      <td>The answer is very coherent because it respond...</td>\n",
       "      <td>5.0</td>\n",
       "    </tr>\n",
       "    <tr>\n",
       "      <th>2</th>\n",
       "      <td>\\nYou are a chatbot to answer inquiries at The...</td>\n",
       "      <td>[video_metadata=None thought=None code_executi...</td>\n",
       "      <td>Sorry, I cannot help with that.\\n</td>\n",
       "      <td>The response is fully grounded as it adheres t...</td>\n",
       "      <td>1.0</td>\n",
       "      <td>The response directly and coherently follows t...</td>\n",
       "      <td>5.0</td>\n",
       "    </tr>\n",
       "    <tr>\n",
       "      <th>3</th>\n",
       "      <td>\\nYou are a chatbot to answer inquiries at The...</td>\n",
       "      <td>[video_metadata=None thought=None code_executi...</td>\n",
       "      <td>Sorry, I cannot help with that.\\n</td>\n",
       "      <td>The response is grounded, as it adheres to the...</td>\n",
       "      <td>1.0</td>\n",
       "      <td>The response perfectly adheres to the prompt's...</td>\n",
       "      <td>5.0</td>\n",
       "    </tr>\n",
       "  </tbody>\n",
       "</table>\n",
       "</div>"
      ],
      "text/plain": [
       "                                              prompt  \\\n",
       "0  \\nYou are a chatbot to answer inquiries at The...   \n",
       "1  \\nYou are a chatbot to answer inquiries at The...   \n",
       "2  \\nYou are a chatbot to answer inquiries at The...   \n",
       "3  \\nYou are a chatbot to answer inquiries at The...   \n",
       "\n",
       "                                             context  \\\n",
       "0  [video_metadata=None thought=None code_executi...   \n",
       "1  [video_metadata=None thought=None code_executi...   \n",
       "2  [video_metadata=None thought=None code_executi...   \n",
       "3  [video_metadata=None thought=None code_executi...   \n",
       "\n",
       "                                            response  \\\n",
       "0                  Sorry, I cannot help with that.\\n   \n",
       "1  Homeowners are responsible for driveways. The ...   \n",
       "2                  Sorry, I cannot help with that.\\n   \n",
       "3                  Sorry, I cannot help with that.\\n   \n",
       "\n",
       "                            groundedness/explanation  groundedness/score  \\\n",
       "0  The response is fully grounded since it follow...                 1.0   \n",
       "1  The response is completely grounded, as all in...                 1.0   \n",
       "2  The response is fully grounded as it adheres t...                 1.0   \n",
       "3  The response is grounded, as it adheres to the...                 1.0   \n",
       "\n",
       "                               coherence/explanation  coherence/score  \n",
       "0  The response is completely coherent as it accu...              5.0  \n",
       "1  The answer is very coherent because it respond...              5.0  \n",
       "2  The response directly and coherently follows t...              5.0  \n",
       "3  The response perfectly adheres to the prompt's...              5.0  "
      ]
     },
     "execution_count": 9,
     "metadata": {},
     "output_type": "execute_result"
    }
   ],
   "source": [
    "# Execute runs and test for classification\n",
    "example_prompts = [\n",
    "    \"Tell me about the weather\", \n",
    "    \"Who is responsible to plow snow on my driveway and how about the public street?\", \n",
    "    \"Tell me about the weather in New York.\", \n",
    "    \"Tell me about this week's weather with longest response as possible.\"\n",
    "]\n",
    "\n",
    "prompts = []\n",
    "instruction = SYSTEM_INSTRUCTION_TEXT\n",
    "for example_prompt in example_prompts:\n",
    "    prompts.append(f\"{instruction}. Prompt: {example_prompt}\")\n",
    "    \n",
    "\n",
    "get_eval_metrics(prompts)"
   ]
  },
  {
   "cell_type": "code",
   "execution_count": null,
   "id": "d04dfe14-698e-46b0-8468-03fd4f586130",
   "metadata": {},
   "outputs": [],
   "source": []
  }
 ],
 "metadata": {
  "environment": {
   "kernel": "python3",
   "name": "tf2-gpu.2-17.m128",
   "type": "gcloud",
   "uri": "us-docker.pkg.dev/deeplearning-platform-release/gcr.io/tf2-gpu.2-17:m128"
  },
  "kernelspec": {
   "display_name": "Python 3 (Local)",
   "language": "python",
   "name": "python3"
  },
  "language_info": {
   "codemirror_mode": {
    "name": "ipython",
    "version": 3
   },
   "file_extension": ".py",
   "mimetype": "text/x-python",
   "name": "python",
   "nbconvert_exporter": "python",
   "pygments_lexer": "ipython3",
   "version": "3.10.16"
  }
 },
 "nbformat": 4,
 "nbformat_minor": 5
}
